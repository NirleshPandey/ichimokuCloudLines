{
  "nbformat": 4,
  "nbformat_minor": 0,
  "metadata": {
    "colab": {
      "provenance": [],
      "include_colab_link": true
    },
    "kernelspec": {
      "name": "python3",
      "display_name": "Python 3"
    },
    "language_info": {
      "name": "python"
    },
    "gpuClass": "standard"
  },
  "cells": [
    {
      "cell_type": "markdown",
      "metadata": {
        "id": "view-in-github",
        "colab_type": "text"
      },
      "source": [
        "<a href=\"https://colab.research.google.com/github/NirleshPandey/investx-assignment1/blob/main/Untitled2.ipynb\" target=\"_parent\"><img src=\"https://colab.research.google.com/assets/colab-badge.svg\" alt=\"Open In Colab\"/></a>"
      ]
    },
    {
      "cell_type": "code",
      "execution_count": 142,
      "metadata": {
        "id": "F3NmyDkdaw3f"
      },
      "outputs": [],
      "source": [
        "import numpy as np\n",
        "from tensorflow.keras.models import Sequential\n",
        "from tensorflow.keras.layers import LSTM\n",
        "from tensorflow.keras.layers import Dense, Dropout\n",
        "import pandas as pd\n",
        "from matplotlib import pyplot as plt\n",
        "from sklearn.preprocessing import StandardScaler\n",
        "import seaborn as sns\n",
        "#from datetime import datetime"
      ]
    },
    {
      "cell_type": "code",
      "source": [
        "df = pd.read_csv('Stock 3 (1).csv')\n",
        "print(df.head())\n",
        "df=df.head(103)"
      ],
      "metadata": {
        "colab": {
          "base_uri": "https://localhost:8080/"
        },
        "id": "9aH7bA5fdNV8",
        "outputId": "13c0e9c8-fd05-465e-d4c7-21314129bc52"
      },
      "execution_count": 143,
      "outputs": [
        {
          "output_type": "stream",
          "name": "stdout",
          "text": [
            "         Date    Stock  liabilities      equity  total_assets  current_assets  \\\n",
            "0  31-07-2006  Stock 3   361.631715  635.647127    997.278841      469.577101   \n",
            "1  31-08-2006  Stock 3   266.880400  496.694118    763.574518      421.909819   \n",
            "2  29-09-2006  Stock 3   365.460591  899.892588   1265.353180      750.701109   \n",
            "3  31-10-2006  Stock 3   373.940386  930.296823   1304.237209      821.930810   \n",
            "4  30-11-2006  Stock 3   951.199826  188.815635   1140.015461      392.990088   \n",
            "\n",
            "   current_liabilities  total_revenue  net_income   dividend  \\\n",
            "0           495.900307     653.355932   95.705559  27.346804   \n",
            "1           492.227710     693.464524  235.244788  58.181455   \n",
            "2           726.066430     506.520834  -39.859056   0.000000   \n",
            "3           964.504117     591.731110  223.816385  60.315713   \n",
            "4           322.308902     867.500476 -432.114758   0.000000   \n",
            "\n",
            "   shares_outstanding       price  \n",
            "0             1056575  100.000000  \n",
            "1             1038310  100.991332  \n",
            "2             1069353  102.322061  \n",
            "3             1010915  102.456191  \n",
            "4             1058219  103.460348  \n"
          ]
        }
      ]
    },
    {
      "cell_type": "code",
      "source": [
        "cols = list(df)[2:12]\n",
        "print(cols)"
      ],
      "metadata": {
        "colab": {
          "base_uri": "https://localhost:8080/"
        },
        "id": "YLtCdVuQdaqD",
        "outputId": "042628f7-ee22-440a-88c4-abdb4fc59b96"
      },
      "execution_count": 144,
      "outputs": [
        {
          "output_type": "stream",
          "name": "stdout",
          "text": [
            "['liabilities', 'equity', 'total_assets', 'current_assets', 'current_liabilities', 'total_revenue', 'net_income', 'dividend', 'shares_outstanding', 'price']\n"
          ]
        }
      ]
    },
    {
      "cell_type": "code",
      "source": [
        "df_for_training = df[cols].astype(float)"
      ],
      "metadata": {
        "id": "kW6fJrsveCsy"
      },
      "execution_count": 145,
      "outputs": []
    },
    {
      "cell_type": "code",
      "source": [
        "scaler = StandardScaler()\n",
        "scaler = scaler.fit(df_for_training)\n",
        "df_for_training_scaled = scaler.transform(df_for_training)"
      ],
      "metadata": {
        "id": "sMJHDh0Eea0u"
      },
      "execution_count": 146,
      "outputs": []
    },
    {
      "cell_type": "code",
      "source": [
        "trainX = []\n",
        "trainY = []"
      ],
      "metadata": {
        "id": "UXLCuxpYefYU"
      },
      "execution_count": 147,
      "outputs": []
    },
    {
      "cell_type": "code",
      "source": [
        "n_future = 1   # Number of days we want to look into the future based on the past days.\n",
        "n_past = 14 # Number of past days we want to use to predict the future."
      ],
      "metadata": {
        "id": "SlZmQQHaepNo"
      },
      "execution_count": 148,
      "outputs": []
    },
    {
      "cell_type": "code",
      "source": [
        "for i in range(n_past, len(df_for_training_scaled) - n_future +1):\n",
        "    trainX.append(df_for_training_scaled[i - n_past:i, 0:df_for_training.shape[1]])\n",
        "    trainY.append(df_for_training_scaled[i + n_future - 1:i + n_future, 9])\n",
        "\n",
        "trainX, trainY = np.array(trainX), np.array(trainY)\n",
        "\n",
        "print('trainX shape == {}.'.format(trainX.shape))\n",
        "print('trainY shape == {}.'.format(trainY.shape))"
      ],
      "metadata": {
        "colab": {
          "base_uri": "https://localhost:8080/"
        },
        "id": "9UGlhknUfFXB",
        "outputId": "e0e119bb-0ee9-4338-de8e-a1c6730a37b4"
      },
      "execution_count": 149,
      "outputs": [
        {
          "output_type": "stream",
          "name": "stdout",
          "text": [
            "trainX shape == (89, 14, 10).\n",
            "trainY shape == (89, 1).\n"
          ]
        }
      ]
    },
    {
      "cell_type": "code",
      "source": [
        "df_for_training_scaled"
      ],
      "metadata": {
        "colab": {
          "base_uri": "https://localhost:8080/"
        },
        "id": "Mf2hun7pvqvf",
        "outputId": "9683c871-b6db-461b-8700-0e9778e3f908"
      },
      "execution_count": 150,
      "outputs": [
        {
          "output_type": "execute_result",
          "data": {
            "text/plain": [
              "array([[-0.58041296,  0.22480902, -0.26902286, ...,  0.59679657,\n",
              "         0.34673017, -1.32828054],\n",
              "       [-0.96133628, -0.32154751, -0.99004894, ...,  2.06776078,\n",
              "        -0.25296675, -0.85274593],\n",
              "       [-0.56501995,  1.26380945,  0.55804181, ..., -0.70778028,\n",
              "         0.76627176, -0.21440504],\n",
              "       ...,\n",
              "       [ 1.00713457,  0.14959582,  0.89027346, ..., -0.70778028,\n",
              "        -0.53717022,  1.63340565],\n",
              "       [ 1.96404354,  0.63510903,  2.0055805 , ...,  2.48066414,\n",
              "        -0.4897592 ,  1.22168312],\n",
              "       [-1.03990943, -0.47878088, -1.17372057, ..., -0.70778028,\n",
              "         0.87908635,  1.58592999]])"
            ]
          },
          "metadata": {},
          "execution_count": 150
        }
      ]
    },
    {
      "cell_type": "code",
      "source": [
        "trainY"
      ],
      "metadata": {
        "colab": {
          "base_uri": "https://localhost:8080/"
        },
        "id": "A4HvqbAkv1ZW",
        "outputId": "fe304aa4-532e-4bc5-dfdf-fdb3274015d2"
      },
      "execution_count": 151,
      "outputs": [
        {
          "output_type": "execute_result",
          "data": {
            "text/plain": [
              "array([[-1.54946936e+00],\n",
              "       [-1.14080193e+00],\n",
              "       [-6.71756751e-01],\n",
              "       [-3.42162199e-01],\n",
              "       [-5.38519293e-01],\n",
              "       [-5.11005567e-04],\n",
              "       [-3.90572684e-01],\n",
              "       [ 1.95664044e-01],\n",
              "       [ 8.18302970e-02],\n",
              "       [-5.05740744e-01],\n",
              "       [-8.97731362e-01],\n",
              "       [-1.31489438e+00],\n",
              "       [-1.13051248e+00],\n",
              "       [-1.16279709e+00],\n",
              "       [-9.64417608e-01],\n",
              "       [-1.27037905e+00],\n",
              "       [-1.12156122e+00],\n",
              "       [-6.17162261e-01],\n",
              "       [-8.58689992e-02],\n",
              "       [ 4.91965193e-01],\n",
              "       [ 9.59758519e-01],\n",
              "       [ 1.65195014e+00],\n",
              "       [ 2.12747664e+00],\n",
              "       [ 2.08881725e+00],\n",
              "       [ 1.97490848e+00],\n",
              "       [ 2.44252005e+00],\n",
              "       [ 2.15651229e+00],\n",
              "       [ 1.55435538e+00],\n",
              "       [ 1.01194582e+00],\n",
              "       [ 1.24527800e+00],\n",
              "       [ 9.56577534e-01],\n",
              "       [ 6.64192548e-01],\n",
              "       [ 2.19255376e-01],\n",
              "       [ 2.85917493e-01],\n",
              "       [ 5.54642935e-01],\n",
              "       [ 4.33864198e-01],\n",
              "       [ 4.43952566e-01],\n",
              "       [ 9.93160093e-01],\n",
              "       [ 6.87202012e-01],\n",
              "       [ 3.55120398e-01],\n",
              "       [ 5.73960685e-01],\n",
              "       [ 7.33991279e-01],\n",
              "       [ 6.54403652e-01],\n",
              "       [ 1.54191019e-01],\n",
              "       [ 2.84589704e-01],\n",
              "       [ 1.83009465e-01],\n",
              "       [-8.06638164e-01],\n",
              "       [-5.26526881e-01],\n",
              "       [-5.13377882e-01],\n",
              "       [-2.35936137e-01],\n",
              "       [-7.76191593e-01],\n",
              "       [-1.25189515e+00],\n",
              "       [-1.17293856e+00],\n",
              "       [-8.40223076e-01],\n",
              "       [-4.32785635e-01],\n",
              "       [ 8.42637777e-02],\n",
              "       [ 2.47527293e-03],\n",
              "       [-2.72912045e-01],\n",
              "       [-4.94323244e-01],\n",
              "       [-8.73285794e-01],\n",
              "       [-1.30373774e+00],\n",
              "       [-1.96598245e+00],\n",
              "       [-1.40518088e+00],\n",
              "       [-5.93011320e-01],\n",
              "       [-1.46032481e-01],\n",
              "       [ 3.27669652e-01],\n",
              "       [ 3.94164068e-01],\n",
              "       [ 9.18635481e-02],\n",
              "       [ 3.95530713e-01],\n",
              "       [ 3.20031602e-01],\n",
              "       [-2.66630323e-02],\n",
              "       [ 2.12493392e-02],\n",
              "       [-4.04624896e-01],\n",
              "       [-2.58858633e-01],\n",
              "       [-3.92436050e-01],\n",
              "       [ 4.91349750e-02],\n",
              "       [-9.93747931e-02],\n",
              "       [-4.63866120e-01],\n",
              "       [-2.73295991e-01],\n",
              "       [ 1.65747006e-01],\n",
              "       [ 8.11895809e-01],\n",
              "       [ 7.06833001e-01],\n",
              "       [ 1.11850176e+00],\n",
              "       [ 1.60201255e+00],\n",
              "       [ 2.08564610e+00],\n",
              "       [ 2.28557498e+00],\n",
              "       [ 1.63340565e+00],\n",
              "       [ 1.22168312e+00],\n",
              "       [ 1.58592999e+00]])"
            ]
          },
          "metadata": {},
          "execution_count": 151
        }
      ]
    },
    {
      "cell_type": "code",
      "source": [
        "model = Sequential()\n",
        "model.add(LSTM(64, activation='relu', input_shape=(trainX.shape[1], trainX.shape[2]), return_sequences=True)) \n",
        "model.add(LSTM(32, activation='relu', return_sequences=False))\n",
        "model.add(Dropout(0.2))\n",
        "model.add(Dense(trainY.shape[1]))\n",
        "\n",
        "model.compile(optimizer='adam', loss='mse')\n",
        "model.summary()"
      ],
      "metadata": {
        "colab": {
          "base_uri": "https://localhost:8080/"
        },
        "id": "xLJ_fEZ8foI3",
        "outputId": "259095c4-d871-4076-ffd1-dc31e43d7415"
      },
      "execution_count": 152,
      "outputs": [
        {
          "output_type": "stream",
          "name": "stdout",
          "text": [
            "Model: \"sequential_5\"\n",
            "_________________________________________________________________\n",
            " Layer (type)                Output Shape              Param #   \n",
            "=================================================================\n",
            " lstm_10 (LSTM)              (None, 14, 64)            19200     \n",
            "                                                                 \n",
            " lstm_11 (LSTM)              (None, 32)                12416     \n",
            "                                                                 \n",
            " dropout_5 (Dropout)         (None, 32)                0         \n",
            "                                                                 \n",
            " dense_5 (Dense)             (None, 1)                 33        \n",
            "                                                                 \n",
            "=================================================================\n",
            "Total params: 31,649\n",
            "Trainable params: 31,649\n",
            "Non-trainable params: 0\n",
            "_________________________________________________________________\n"
          ]
        }
      ]
    },
    {
      "cell_type": "code",
      "source": [
        "history = model.fit(trainX, trainY, epochs=5, batch_size=3, validation_split=0.1, verbose=1)"
      ],
      "metadata": {
        "colab": {
          "base_uri": "https://localhost:8080/"
        },
        "id": "gR-gELFqhCt3",
        "outputId": "af6c2af2-dbee-43ea-89f7-a37ab8600db4"
      },
      "execution_count": 153,
      "outputs": [
        {
          "output_type": "stream",
          "name": "stdout",
          "text": [
            "Epoch 1/5\n",
            "27/27 [==============================] - 2s 18ms/step - loss: 0.8167 - val_loss: 2.3538\n",
            "Epoch 2/5\n",
            "27/27 [==============================] - 0s 9ms/step - loss: 0.6015 - val_loss: 1.6012\n",
            "Epoch 3/5\n",
            "27/27 [==============================] - 0s 10ms/step - loss: 0.4027 - val_loss: 0.6921\n",
            "Epoch 4/5\n",
            "27/27 [==============================] - 0s 10ms/step - loss: 0.2226 - val_loss: 0.5481\n",
            "Epoch 5/5\n",
            "27/27 [==============================] - 0s 10ms/step - loss: 0.2902 - val_loss: 1.0705\n"
          ]
        }
      ]
    },
    {
      "cell_type": "code",
      "source": [
        "plt.plot(history.history['loss'], label='Training loss')\n",
        "plt.plot(history.history['val_loss'], label='Validation loss')\n",
        "plt.legend()"
      ],
      "metadata": {
        "colab": {
          "base_uri": "https://localhost:8080/",
          "height": 448
        },
        "id": "ReHWBQ1VhKzd",
        "outputId": "665fe977-51e3-414d-c4f5-583e833992c8"
      },
      "execution_count": 154,
      "outputs": [
        {
          "output_type": "execute_result",
          "data": {
            "text/plain": [
              "<matplotlib.legend.Legend at 0x7fe48cac7760>"
            ]
          },
          "metadata": {},
          "execution_count": 154
        },
        {
          "output_type": "display_data",
          "data": {
            "text/plain": [
              "<Figure size 640x480 with 1 Axes>"
            ],
            "image/png": "[encoded data removed]"
          },
          "metadata": {}
        }
      ]
    },
    {
      "cell_type": "code",
      "source": [
        "from pandas.tseries.holiday import USFederalHolidayCalendar\n",
        "from pandas.tseries.offsets import CustomBusinessDay\n",
        "us_bd = CustomBusinessDay(calendar=USFederalHolidayCalendar())"
      ],
      "metadata": {
        "id": "ncph6lCWjfQ_"
      },
      "execution_count": 155,
      "outputs": []
    },
    {
      "cell_type": "code",
      "source": [
        "df2= df.head(150)\n",
        "train_dates = pd.to_datetime(df2['Date'])\n",
        "print(train_dates.tail(15)) "
      ],
      "metadata": {
        "colab": {
          "base_uri": "https://localhost:8080/"
        },
        "id": "DSZrHFBYj7iK",
        "outputId": "9569d754-b5c6-437e-a1e3-47161108e08c"
      },
      "execution_count": 156,
      "outputs": [
        {
          "output_type": "stream",
          "name": "stdout",
          "text": [
            "88    2013-11-29\n",
            "89    2013-12-31\n",
            "90    2014-01-31\n",
            "91    2014-02-28\n",
            "92    2014-03-31\n",
            "93    2014-04-30\n",
            "94    2014-05-30\n",
            "95    2014-06-30\n",
            "96    2014-07-31\n",
            "97    2014-08-29\n",
            "98    2014-09-30\n",
            "99    2014-10-31\n",
            "100   2014-11-28\n",
            "101   2014-12-31\n",
            "102   2015-01-30\n",
            "Name: Date, dtype: datetime64[ns]\n"
          ]
        },
        {
          "output_type": "stream",
          "name": "stderr",
          "text": [
            "<ipython-input-156-8e23a519e50a>:2: UserWarning: Parsing dates in DD/MM/YYYY format when dayfirst=False (the default) was specified. This may lead to inconsistently parsed dates! Specify a format to ensure consistent parsing.\n",
            "  train_dates = pd.to_datetime(df2['Date'])\n"
          ]
        }
      ]
    },
    {
      "cell_type": "code",
      "source": [
        "n_past = 1\n",
        "n_days_for_prediction=50  #let us predict past 15 days\n",
        "\n",
        "predict_period_dates = pd.date_range(list(train_dates)[-n_past], periods=n_days_for_prediction, freq='M').tolist()\n",
        "print(predict_period_dates)"
      ],
      "metadata": {
        "colab": {
          "base_uri": "https://localhost:8080/"
        },
        "id": "yAZn0dxejZ-b",
        "outputId": "573d37c1-372d-43ee-e73f-31107b871cf9"
      },
      "execution_count": 157,
      "outputs": [
        {
          "output_type": "stream",
          "name": "stdout",
          "text": [
            "[Timestamp('2015-01-31 00:00:00', freq='M'), Timestamp('2015-02-28 00:00:00', freq='M'), Timestamp('2015-03-31 00:00:00', freq='M'), Timestamp('2015-04-30 00:00:00', freq='M'), Timestamp('2015-05-31 00:00:00', freq='M'), Timestamp('2015-06-30 00:00:00', freq='M'), Timestamp('2015-07-31 00:00:00', freq='M'), Timestamp('2015-08-31 00:00:00', freq='M'), Timestamp('2015-09-30 00:00:00', freq='M'), Timestamp('2015-10-31 00:00:00', freq='M'), Timestamp('2015-11-30 00:00:00', freq='M'), Timestamp('2015-12-31 00:00:00', freq='M'), Timestamp('2016-01-31 00:00:00', freq='M'), Timestamp('2016-02-29 00:00:00', freq='M'), Timestamp('2016-03-31 00:00:00', freq='M'), Timestamp('2016-04-30 00:00:00', freq='M'), Timestamp('2016-05-31 00:00:00', freq='M'), Timestamp('2016-06-30 00:00:00', freq='M'), Timestamp('2016-07-31 00:00:00', freq='M'), Timestamp('2016-08-31 00:00:00', freq='M'), Timestamp('2016-09-30 00:00:00', freq='M'), Timestamp('2016-10-31 00:00:00', freq='M'), Timestamp('2016-11-30 00:00:00', freq='M'), Timestamp('2016-12-31 00:00:00', freq='M'), Timestamp('2017-01-31 00:00:00', freq='M'), Timestamp('2017-02-28 00:00:00', freq='M'), Timestamp('2017-03-31 00:00:00', freq='M'), Timestamp('2017-04-30 00:00:00', freq='M'), Timestamp('2017-05-31 00:00:00', freq='M'), Timestamp('2017-06-30 00:00:00', freq='M'), Timestamp('2017-07-31 00:00:00', freq='M'), Timestamp('2017-08-31 00:00:00', freq='M'), Timestamp('2017-09-30 00:00:00', freq='M'), Timestamp('2017-10-31 00:00:00', freq='M'), Timestamp('2017-11-30 00:00:00', freq='M'), Timestamp('2017-12-31 00:00:00', freq='M'), Timestamp('2018-01-31 00:00:00', freq='M'), Timestamp('2018-02-28 00:00:00', freq='M'), Timestamp('2018-03-31 00:00:00', freq='M'), Timestamp('2018-04-30 00:00:00', freq='M'), Timestamp('2018-05-31 00:00:00', freq='M'), Timestamp('2018-06-30 00:00:00', freq='M'), Timestamp('2018-07-31 00:00:00', freq='M'), Timestamp('2018-08-31 00:00:00', freq='M'), Timestamp('2018-09-30 00:00:00', freq='M'), Timestamp('2018-10-31 00:00:00', freq='M'), Timestamp('2018-11-30 00:00:00', freq='M'), Timestamp('2018-12-31 00:00:00', freq='M'), Timestamp('2019-01-31 00:00:00', freq='M'), Timestamp('2019-02-28 00:00:00', freq='M')]\n"
          ]
        }
      ]
    },
    {
      "cell_type": "code",
      "source": [
        "prediction = model.predict(trainX[-n_days_for_prediction:]) "
      ],
      "metadata": {
        "colab": {
          "base_uri": "https://localhost:8080/"
        },
        "id": "omuhi-fFjuzK",
        "outputId": "f18defb1-33a2-456f-fa03-c8d319395392"
      },
      "execution_count": 158,
      "outputs": [
        {
          "output_type": "stream",
          "name": "stdout",
          "text": [
            "2/2 [==============================] - 0s 5ms/step\n"
          ]
        }
      ]
    },
    {
      "cell_type": "code",
      "source": [
        "prediction_copies = np.repeat(prediction, df_for_training.shape[1], axis=-1)\n",
        "y_pred_future = scaler.inverse_transform(prediction_copies)[:,9]"
      ],
      "metadata": {
        "id": "A68cGGUlkLp7"
      },
      "execution_count": 159,
      "outputs": []
    },
    {
      "cell_type": "code",
      "source": [
        "forecast_dates = []\n",
        "for time_i in predict_period_dates:\n",
        "    forecast_dates.append(time_i.date())\n",
        "    \n",
        "df_forecast = pd.DataFrame({'Date':np.array(forecast_dates), 'price':y_pred_future})\n",
        "df_forecast['Date']=pd.to_datetime(df_forecast['Date'])"
      ],
      "metadata": {
        "id": "RRg0e30rkPIK"
      },
      "execution_count": 160,
      "outputs": []
    },
    {
      "cell_type": "code",
      "source": [
        "original = df[['Date', 'price']]\n",
        "original['Date']=pd.to_datetime(original['Date'])\n",
        "original\n"
      ],
      "metadata": {
        "colab": {
          "base_uri": "https://localhost:8080/",
          "height": 587
        },
        "id": "7PbdmSaPkUK7",
        "outputId": "fcfc9c01-1f81-4c29-ca3b-57640288107c"
      },
      "execution_count": 161,
      "outputs": [
        {
          "output_type": "stream",
          "name": "stderr",
          "text": [
            "<ipython-input-161-20f60c629b61>:2: UserWarning: Parsing dates in DD/MM/YYYY format when dayfirst=False (the default) was specified. This may lead to inconsistently parsed dates! Specify a format to ensure consistent parsing.\n",
            "  original['Date']=pd.to_datetime(original['Date'])\n",
            "<ipython-input-161-20f60c629b61>:2: SettingWithCopyWarning: \n",
            "A value is trying to be set on a copy of a slice from a DataFrame.\n",
            "Try using .loc[row_indexer,col_indexer] = value instead\n",
            "\n",
            "See the caveats in the documentation: https://pandas.pydata.org/pandas-docs/stable/user_guide/indexing.html#returning-a-view-versus-a-copy\n",
            "  original['Date']=pd.to_datetime(original['Date'])\n"
          ]
        },
        {
          "output_type": "execute_result",
          "data": {
            "text/plain": [
              "          Date       price\n",
              "0   2006-07-31  100.000000\n",
              "1   2006-08-31  100.991332\n",
              "2   2006-09-29  102.322061\n",
              "3   2006-10-31  102.456191\n",
              "4   2006-11-30  103.460348\n",
              "..         ...         ...\n",
              "98  2014-09-30  107.116905\n",
              "99  2014-10-31  107.533690\n",
              "100 2014-11-28  106.174133\n",
              "101 2014-12-31  105.315828\n",
              "102 2015-01-30  106.075162\n",
              "\n",
              "[103 rows x 2 columns]"
            ],
            "text/html": [
              "\n",
              "  <div id=\"df-900ea2b1-81e2-41ae-878b-07df6758e0c3\">\n",
              "    <div class=\"colab-df-container\">\n",
              "      <div>\n",
              "<style scoped>\n",
              "    .dataframe tbody tr th:only-of-type {\n",
              "        vertical-align: middle;\n",
              "    }\n",
              "\n",
              "    .dataframe tbody tr th {\n",
              "        vertical-align: top;\n",
              "    }\n",
              "\n",
              "    .dataframe thead th {\n",
              "        text-align: right;\n",
              "    }\n",
              "</style>\n",
              "<table border=\"1\" class=\"dataframe\">\n",
              "  <thead>\n",
              "    <tr style=\"text-align: right;\">\n",
              "      <th></th>\n",
              "      <th>Date</th>\n",
              "      <th>price</th>\n",
              "    </tr>\n",
              "  </thead>\n",
              "  <tbody>\n",
              "    <tr>\n",
              "      <th>0</th>\n",
              "      <td>2006-07-31</td>\n",
              "      <td>100.000000</td>\n",
              "    </tr>\n",
              "    <tr>\n",
              "      <th>1</th>\n",
              "      <td>2006-08-31</td>\n",
              "      <td>100.991332</td>\n",
              "    </tr>\n",
              "    <tr>\n",
              "      <th>2</th>\n",
              "      <td>2006-09-29</td>\n",
              "      <td>102.322061</td>\n",
              "    </tr>\n",
              "    <tr>\n",
              "      <th>3</th>\n",
              "      <td>2006-10-31</td>\n",
              "      <td>102.456191</td>\n",
              "    </tr>\n",
              "    <tr>\n",
              "      <th>4</th>\n",
              "      <td>2006-11-30</td>\n",
              "      <td>103.460348</td>\n",
              "    </tr>\n",
              "    <tr>\n",
              "      <th>...</th>\n",
              "      <td>...</td>\n",
              "      <td>...</td>\n",
              "    </tr>\n",
              "    <tr>\n",
              "      <th>98</th>\n",
              "      <td>2014-09-30</td>\n",
              "      <td>107.116905</td>\n",
              "    </tr>\n",
              "    <tr>\n",
              "      <th>99</th>\n",
              "      <td>2014-10-31</td>\n",
              "      <td>107.533690</td>\n",
              "    </tr>\n",
              "    <tr>\n",
              "      <th>100</th>\n",
              "      <td>2014-11-28</td>\n",
              "      <td>106.174133</td>\n",
              "    </tr>\n",
              "    <tr>\n",
              "      <th>101</th>\n",
              "      <td>2014-12-31</td>\n",
              "      <td>105.315828</td>\n",
              "    </tr>\n",
              "    <tr>\n",
              "      <th>102</th>\n",
              "      <td>2015-01-30</td>\n",
              "      <td>106.075162</td>\n",
              "    </tr>\n",
              "  </tbody>\n",
              "</table>\n",
              "<p>103 rows × 2 columns</p>\n",
              "</div>\n",
              "      <button class=\"colab-df-convert\" onclick=\"convertToInteractive('df-900ea2b1-81e2-41ae-878b-07df6758e0c3')\"\n",
              "              title=\"Convert this dataframe to an interactive table.\"\n",
              "              style=\"display:none;\">\n",
              "        \n",
              "  <svg xmlns=\"http://www.w3.org/2000/svg\" height=\"24px\"viewBox=\"0 0 24 24\"\n",
              "       width=\"24px\">\n",
              "    <path d=\"M0 0h24v24H0V0z\" fill=\"none\"/>\n",
              "    <path d=\"M18.56 5.44l.94 2.06.94-2.06 2.06-.94-2.06-.94-.94-2.06-.94 2.06-2.06.94zm-11 1L8.5 8.5l.94-2.06 2.06-.94-2.06-.94L8.5 2.5l-.94 2.06-2.06.94zm10 10l.94 2.06.94-2.06 2.06-.94-2.06-.94-.94-2.06-.94 2.06-2.06.94z\"/><path d=\"M17.41 7.96l-1.37-1.37c-.4-.4-.92-.59-1.43-.59-.52 0-1.04.2-1.43.59L10.3 9.45l-7.72 7.72c-.78.78-.78 2.05 0 2.83L4 21.41c.39.39.9.59 1.41.59.51 0 1.02-.2 1.41-.59l7.78-7.78 2.81-2.81c.8-.78.8-2.07 0-2.86zM5.41 20L4 18.59l7.72-7.72 1.47 1.35L5.41 20z\"/>\n",
              "  </svg>\n",
              "      </button>\n",
              "      \n",
              "  <style>\n",
              "    .colab-df-container {\n",
              "      display:flex;\n",
              "      flex-wrap:wrap;\n",
              "      gap: 12px;\n",
              "    }\n",
              "\n",
              "    .colab-df-convert {\n",
              "      background-color: #E8F0FE;\n",
              "      border: none;\n",
              "      border-radius: 50%;\n",
              "      cursor: pointer;\n",
              "      display: none;\n",
              "      fill: #1967D2;\n",
              "      height: 32px;\n",
              "      padding: 0 0 0 0;\n",
              "      width: 32px;\n",
              "    }\n",
              "\n",
              "    .colab-df-convert:hover {\n",
              "      background-color: #E2EBFA;\n",
              "      box-shadow: 0px 1px 2px rgba(60, 64, 67, 0.3), 0px 1px 3px 1px rgba(60, 64, 67, 0.15);\n",
              "      fill: #174EA6;\n",
              "    }\n",
              "\n",
              "    [theme=dark] .colab-df-convert {\n",
              "      background-color: #3B4455;\n",
              "      fill: #D2E3FC;\n",
              "    }\n",
              "\n",
              "    [theme=dark] .colab-df-convert:hover {\n",
              "      background-color: #434B5C;\n",
              "      box-shadow: 0px 1px 3px 1px rgba(0, 0, 0, 0.15);\n",
              "      filter: drop-shadow(0px 1px 2px rgba(0, 0, 0, 0.3));\n",
              "      fill: #FFFFFF;\n",
              "    }\n",
              "  </style>\n",
              "\n",
              "      <script>\n",
              "        const buttonEl =\n",
              "          document.querySelector('#df-900ea2b1-81e2-41ae-878b-07df6758e0c3 button.colab-df-convert');\n",
              "        buttonEl.style.display =\n",
              "          google.colab.kernel.accessAllowed ? 'block' : 'none';\n",
              "\n",
              "        async function convertToInteractive(key) {\n",
              "          const element = document.querySelector('#df-900ea2b1-81e2-41ae-878b-07df6758e0c3');\n",
              "          const dataTable =\n",
              "            await google.colab.kernel.invokeFunction('convertToInteractive',\n",
              "                                                     [key], {});\n",
              "          if (!dataTable) return;\n",
              "\n",
              "          const docLinkHtml = 'Like what you see? Visit the ' +\n",
              "            '<a target=\"_blank\" href=https://colab.research.google.com/notebooks/data_table.ipynb>data table notebook</a>'\n",
              "            + ' to learn more about interactive tables.';\n",
              "          element.innerHTML = '';\n",
              "          dataTable['output_type'] = 'display_data';\n",
              "          await google.colab.output.renderOutput(dataTable, element);\n",
              "          const docLink = document.createElement('div');\n",
              "          docLink.innerHTML = docLinkHtml;\n",
              "          element.appendChild(docLink);\n",
              "        }\n",
              "      </script>\n",
              "    </div>\n",
              "  </div>\n",
              "  "
            ]
          },
          "metadata": {},
          "execution_count": 161
        }
      ]
    },
    {
      "cell_type": "code",
      "source": [
        "df_forecast"
      ],
      "metadata": {
        "colab": {
          "base_uri": "https://localhost:8080/",
          "height": 1000
        },
        "id": "uQKHlrzh2Jl6",
        "outputId": "0467c93d-e7fa-43ec-9fbe-f00e39d673bf"
      },
      "execution_count": 164,
      "outputs": [
        {
          "output_type": "execute_result",
          "data": {
            "text/plain": [
              "         Date       price\n",
              "0  2015-01-31  102.917656\n",
              "1  2015-02-28  102.874344\n",
              "2  2015-03-31  102.922142\n",
              "3  2015-04-30  102.749748\n",
              "4  2015-05-31  102.328072\n",
              "5  2015-06-30  102.207649\n",
              "6  2015-07-31  101.990593\n",
              "7  2015-08-31  101.354897\n",
              "8  2015-09-30  101.445473\n",
              "9  2015-10-31  101.382347\n",
              "10 2015-11-30  101.558853\n",
              "11 2015-12-31  101.062210\n",
              "12 2016-01-31  100.577721\n",
              "13 2016-02-29  100.390205\n",
              "14 2016-03-31  100.549500\n",
              "15 2016-04-30  100.786209\n",
              "16 2016-05-31  101.057457\n",
              "17 2016-06-30  101.048866\n",
              "18 2016-07-31  101.188507\n",
              "19 2016-08-31  101.007805\n",
              "20 2016-09-30  100.658867\n",
              "21 2016-10-31  100.626778\n",
              "22 2016-11-30  100.123215\n",
              "23 2016-12-31  100.970619\n",
              "24 2017-01-31  101.636932\n",
              "25 2017-02-28  102.351181\n",
              "26 2017-03-31  102.663773\n",
              "27 2017-04-30  102.804680\n",
              "28 2017-05-31  102.791710\n",
              "29 2017-06-30  102.664314\n",
              "30 2017-07-31  102.547157\n",
              "31 2017-08-31  102.116508\n",
              "32 2017-09-30  102.053406\n",
              "33 2017-10-31  101.781006\n",
              "34 2017-11-30  101.911591\n",
              "35 2017-12-31  101.873085\n",
              "36 2018-01-31  102.198288\n",
              "37 2018-02-28  102.154045\n",
              "38 2018-03-31  102.055756\n",
              "39 2018-04-30  102.081558\n",
              "40 2018-05-31  102.241814\n",
              "41 2018-06-30  102.591614\n",
              "42 2018-07-31  102.818459\n",
              "43 2018-08-31  103.122192\n",
              "44 2018-09-30  103.611351\n",
              "45 2018-10-31  104.037956\n",
              "46 2018-11-30  104.320053\n",
              "47 2018-12-31  104.246986\n",
              "48 2019-01-31  104.276436\n",
              "49 2019-02-28  104.813438"
            ],
            "text/html": [
              "\n",
              "  <div id=\"df-d1830e6a-9d16-4931-ace6-96fee0fe48f5\">\n",
              "    <div class=\"colab-df-container\">\n",
              "      <div>\n",
              "<style scoped>\n",
              "    .dataframe tbody tr th:only-of-type {\n",
              "        vertical-align: middle;\n",
              "    }\n",
              "\n",
              "    .dataframe tbody tr th {\n",
              "        vertical-align: top;\n",
              "    }\n",
              "\n",
              "    .dataframe thead th {\n",
              "        text-align: right;\n",
              "    }\n",
              "</style>\n",
              "<table border=\"1\" class=\"dataframe\">\n",
              "  <thead>\n",
              "    <tr style=\"text-align: right;\">\n",
              "      <th></th>\n",
              "      <th>Date</th>\n",
              "      <th>price</th>\n",
              "    </tr>\n",
              "  </thead>\n",
              "  <tbody>\n",
              "    <tr>\n",
              "      <th>0</th>\n",
              "      <td>2015-01-31</td>\n",
              "      <td>102.917656</td>\n",
              "    </tr>\n",
              "    <tr>\n",
              "      <th>1</th>\n",
              "      <td>2015-02-28</td>\n",
              "      <td>102.874344</td>\n",
              "    </tr>\n",
              "    <tr>\n",
              "      <th>2</th>\n",
              "      <td>2015-03-31</td>\n",
              "      <td>102.922142</td>\n",
              "    </tr>\n",
              "    <tr>\n",
              "      <th>3</th>\n",
              "      <td>2015-04-30</td>\n",
              "      <td>102.749748</td>\n",
              "    </tr>\n",
              "    <tr>\n",
              "      <th>4</th>\n",
              "      <td>2015-05-31</td>\n",
              "      <td>102.328072</td>\n",
              "    </tr>\n",
              "    <tr>\n",
              "      <th>5</th>\n",
              "      <td>2015-06-30</td>\n",
              "      <td>102.207649</td>\n",
              "    </tr>\n",
              "    <tr>\n",
              "      <th>6</th>\n",
              "      <td>2015-07-31</td>\n",
              "      <td>101.990593</td>\n",
              "    </tr>\n",
              "    <tr>\n",
              "      <th>7</th>\n",
              "      <td>2015-08-31</td>\n",
              "      <td>101.354897</td>\n",
              "    </tr>\n",
              "    <tr>\n",
              "      <th>8</th>\n",
              "      <td>2015-09-30</td>\n",
              "      <td>101.445473</td>\n",
              "    </tr>\n",
              "    <tr>\n",
              "      <th>9</th>\n",
              "      <td>2015-10-31</td>\n",
              "      <td>101.382347</td>\n",
              "    </tr>\n",
              "    <tr>\n",
              "      <th>10</th>\n",
              "      <td>2015-11-30</td>\n",
              "      <td>101.558853</td>\n",
              "    </tr>\n",
              "    <tr>\n",
              "      <th>11</th>\n",
              "      <td>2015-12-31</td>\n",
              "      <td>101.062210</td>\n",
              "    </tr>\n",
              "    <tr>\n",
              "      <th>12</th>\n",
              "      <td>2016-01-31</td>\n",
              "      <td>100.577721</td>\n",
              "    </tr>\n",
              "    <tr>\n",
              "      <th>13</th>\n",
              "      <td>2016-02-29</td>\n",
              "      <td>100.390205</td>\n",
              "    </tr>\n",
              "    <tr>\n",
              "      <th>14</th>\n",
              "      <td>2016-03-31</td>\n",
              "      <td>100.549500</td>\n",
              "    </tr>\n",
              "    <tr>\n",
              "      <th>15</th>\n",
              "      <td>2016-04-30</td>\n",
              "      <td>100.786209</td>\n",
              "    </tr>\n",
              "    <tr>\n",
              "      <th>16</th>\n",
              "      <td>2016-05-31</td>\n",
              "      <td>101.057457</td>\n",
              "    </tr>\n",
              "    <tr>\n",
              "      <th>17</th>\n",
              "      <td>2016-06-30</td>\n",
              "      <td>101.048866</td>\n",
              "    </tr>\n",
              "    <tr>\n",
              "      <th>18</th>\n",
              "      <td>2016-07-31</td>\n",
              "      <td>101.188507</td>\n",
              "    </tr>\n",
              "    <tr>\n",
              "      <th>19</th>\n",
              "      <td>2016-08-31</td>\n",
              "      <td>101.007805</td>\n",
              "    </tr>\n",
              "    <tr>\n",
              "      <th>20</th>\n",
              "      <td>2016-09-30</td>\n",
              "      <td>100.658867</td>\n",
              "    </tr>\n",
              "    <tr>\n",
              "      <th>21</th>\n",
              "      <td>2016-10-31</td>\n",
              "      <td>100.626778</td>\n",
              "    </tr>\n",
              "    <tr>\n",
              "      <th>22</th>\n",
              "      <td>2016-11-30</td>\n",
              "      <td>100.123215</td>\n",
              "    </tr>\n",
              "    <tr>\n",
              "      <th>23</th>\n",
              "      <td>2016-12-31</td>\n",
              "      <td>100.970619</td>\n",
              "    </tr>\n",
              "    <tr>\n",
              "      <th>24</th>\n",
              "      <td>2017-01-31</td>\n",
              "      <td>101.636932</td>\n",
              "    </tr>\n",
              "    <tr>\n",
              "      <th>25</th>\n",
              "      <td>2017-02-28</td>\n",
              "      <td>102.351181</td>\n",
              "    </tr>\n",
              "    <tr>\n",
              "      <th>26</th>\n",
              "      <td>2017-03-31</td>\n",
              "      <td>102.663773</td>\n",
              "    </tr>\n",
              "    <tr>\n",
              "      <th>27</th>\n",
              "      <td>2017-04-30</td>\n",
              "      <td>102.804680</td>\n",
              "    </tr>\n",
              "    <tr>\n",
              "      <th>28</th>\n",
              "      <td>2017-05-31</td>\n",
              "      <td>102.791710</td>\n",
              "    </tr>\n",
              "    <tr>\n",
              "      <th>29</th>\n",
              "      <td>2017-06-30</td>\n",
              "      <td>102.664314</td>\n",
              "    </tr>\n",
              "    <tr>\n",
              "      <th>30</th>\n",
              "      <td>2017-07-31</td>\n",
              "      <td>102.547157</td>\n",
              "    </tr>\n",
              "    <tr>\n",
              "      <th>31</th>\n",
              "      <td>2017-08-31</td>\n",
              "      <td>102.116508</td>\n",
              "    </tr>\n",
              "    <tr>\n",
              "      <th>32</th>\n",
              "      <td>2017-09-30</td>\n",
              "      <td>102.053406</td>\n",
              "    </tr>\n",
              "    <tr>\n",
              "      <th>33</th>\n",
              "      <td>2017-10-31</td>\n",
              "      <td>101.781006</td>\n",
              "    </tr>\n",
              "    <tr>\n",
              "      <th>34</th>\n",
              "      <td>2017-11-30</td>\n",
              "      <td>101.911591</td>\n",
              "    </tr>\n",
              "    <tr>\n",
              "      <th>35</th>\n",
              "      <td>2017-12-31</td>\n",
              "      <td>101.873085</td>\n",
              "    </tr>\n",
              "    <tr>\n",
              "      <th>36</th>\n",
              "      <td>2018-01-31</td>\n",
              "      <td>102.198288</td>\n",
              "    </tr>\n",
              "    <tr>\n",
              "      <th>37</th>\n",
              "      <td>2018-02-28</td>\n",
              "      <td>102.154045</td>\n",
              "    </tr>\n",
              "    <tr>\n",
              "      <th>38</th>\n",
              "      <td>2018-03-31</td>\n",
              "      <td>102.055756</td>\n",
              "    </tr>\n",
              "    <tr>\n",
              "      <th>39</th>\n",
              "      <td>2018-04-30</td>\n",
              "      <td>102.081558</td>\n",
              "    </tr>\n",
              "    <tr>\n",
              "      <th>40</th>\n",
              "      <td>2018-05-31</td>\n",
              "      <td>102.241814</td>\n",
              "    </tr>\n",
              "    <tr>\n",
              "      <th>41</th>\n",
              "      <td>2018-06-30</td>\n",
              "      <td>102.591614</td>\n",
              "    </tr>\n",
              "    <tr>\n",
              "      <th>42</th>\n",
              "      <td>2018-07-31</td>\n",
              "      <td>102.818459</td>\n",
              "    </tr>\n",
              "    <tr>\n",
              "      <th>43</th>\n",
              "      <td>2018-08-31</td>\n",
              "      <td>103.122192</td>\n",
              "    </tr>\n",
              "    <tr>\n",
              "      <th>44</th>\n",
              "      <td>2018-09-30</td>\n",
              "      <td>103.611351</td>\n",
              "    </tr>\n",
              "    <tr>\n",
              "      <th>45</th>\n",
              "      <td>2018-10-31</td>\n",
              "      <td>104.037956</td>\n",
              "    </tr>\n",
              "    <tr>\n",
              "      <th>46</th>\n",
              "      <td>2018-11-30</td>\n",
              "      <td>104.320053</td>\n",
              "    </tr>\n",
              "    <tr>\n",
              "      <th>47</th>\n",
              "      <td>2018-12-31</td>\n",
              "      <td>104.246986</td>\n",
              "    </tr>\n",
              "    <tr>\n",
              "      <th>48</th>\n",
              "      <td>2019-01-31</td>\n",
              "      <td>104.276436</td>\n",
              "    </tr>\n",
              "    <tr>\n",
              "      <th>49</th>\n",
              "      <td>2019-02-28</td>\n",
              "      <td>104.813438</td>\n",
              "    </tr>\n",
              "  </tbody>\n",
              "</table>\n",
              "</div>\n",
              "      <button class=\"colab-df-convert\" onclick=\"convertToInteractive('df-d1830e6a-9d16-4931-ace6-96fee0fe48f5')\"\n",
              "              title=\"Convert this dataframe to an interactive table.\"\n",
              "              style=\"display:none;\">\n",
              "        \n",
              "  <svg xmlns=\"http://www.w3.org/2000/svg\" height=\"24px\"viewBox=\"0 0 24 24\"\n",
              "       width=\"24px\">\n",
              "    <path d=\"M0 0h24v24H0V0z\" fill=\"none\"/>\n",
              "    <path d=\"M18.56 5.44l.94 2.06.94-2.06 2.06-.94-2.06-.94-.94-2.06-.94 2.06-2.06.94zm-11 1L8.5 8.5l.94-2.06 2.06-.94-2.06-.94L8.5 2.5l-.94 2.06-2.06.94zm10 10l.94 2.06.94-2.06 2.06-.94-2.06-.94-.94-2.06-.94 2.06-2.06.94z\"/><path d=\"M17.41 7.96l-1.37-1.37c-.4-.4-.92-.59-1.43-.59-.52 0-1.04.2-1.43.59L10.3 9.45l-7.72 7.72c-.78.78-.78 2.05 0 2.83L4 21.41c.39.39.9.59 1.41.59.51 0 1.02-.2 1.41-.59l7.78-7.78 2.81-2.81c.8-.78.8-2.07 0-2.86zM5.41 20L4 18.59l7.72-7.72 1.47 1.35L5.41 20z\"/>\n",
              "  </svg>\n",
              "      </button>\n",
              "      \n",
              "  <style>\n",
              "    .colab-df-container {\n",
              "      display:flex;\n",
              "      flex-wrap:wrap;\n",
              "      gap: 12px;\n",
              "    }\n",
              "\n",
              "    .colab-df-convert {\n",
              "      background-color: #E8F0FE;\n",
              "      border: none;\n",
              "      border-radius: 50%;\n",
              "      cursor: pointer;\n",
              "      display: none;\n",
              "      fill: #1967D2;\n",
              "      height: 32px;\n",
              "      padding: 0 0 0 0;\n",
              "      width: 32px;\n",
              "    }\n",
              "\n",
              "    .colab-df-convert:hover {\n",
              "      background-color: #E2EBFA;\n",
              "      box-shadow: 0px 1px 2px rgba(60, 64, 67, 0.3), 0px 1px 3px 1px rgba(60, 64, 67, 0.15);\n",
              "      fill: #174EA6;\n",
              "    }\n",
              "\n",
              "    [theme=dark] .colab-df-convert {\n",
              "      background-color: #3B4455;\n",
              "      fill: #D2E3FC;\n",
              "    }\n",
              "\n",
              "    [theme=dark] .colab-df-convert:hover {\n",
              "      background-color: #434B5C;\n",
              "      box-shadow: 0px 1px 3px 1px rgba(0, 0, 0, 0.15);\n",
              "      filter: drop-shadow(0px 1px 2px rgba(0, 0, 0, 0.3));\n",
              "      fill: #FFFFFF;\n",
              "    }\n",
              "  </style>\n",
              "\n",
              "      <script>\n",
              "        const buttonEl =\n",
              "          document.querySelector('#df-d1830e6a-9d16-4931-ace6-96fee0fe48f5 button.colab-df-convert');\n",
              "        buttonEl.style.display =\n",
              "          google.colab.kernel.accessAllowed ? 'block' : 'none';\n",
              "\n",
              "        async function convertToInteractive(key) {\n",
              "          const element = document.querySelector('#df-d1830e6a-9d16-4931-ace6-96fee0fe48f5');\n",
              "          const dataTable =\n",
              "            await google.colab.kernel.invokeFunction('convertToInteractive',\n",
              "                                                     [key], {});\n",
              "          if (!dataTable) return;\n",
              "\n",
              "          const docLinkHtml = 'Like what you see? Visit the ' +\n",
              "            '<a target=\"_blank\" href=https://colab.research.google.com/notebooks/data_table.ipynb>data table notebook</a>'\n",
              "            + ' to learn more about interactive tables.';\n",
              "          element.innerHTML = '';\n",
              "          dataTable['output_type'] = 'display_data';\n",
              "          await google.colab.output.renderOutput(dataTable, element);\n",
              "          const docLink = document.createElement('div');\n",
              "          docLink.innerHTML = docLinkHtml;\n",
              "          element.appendChild(docLink);\n",
              "        }\n",
              "      </script>\n",
              "    </div>\n",
              "  </div>\n",
              "  "
            ]
          },
          "metadata": {},
          "execution_count": 164
        }
      ]
    },
    {
      "cell_type": "code",
      "source": [
        "original.plot(x='Date',y='price')\n",
        "original= pd.concat([original,df_forecast],axis=0)\n",
        "original.plot(x='Date',y='price')\n",
        "#f_forecast.plot(x='Date',y='price')\n",
        "\n",
        "\n",
        "\n"
      ],
      "metadata": {
        "colab": {
          "base_uri": "https://localhost:8080/",
          "height": 845
        },
        "id": "RLBZ0Dddla_5",
        "outputId": "44f8bae6-5348-4127-e70f-6eae48bb2cd5"
      },
      "execution_count": 165,
      "outputs": [
        {
          "output_type": "execute_result",
          "data": {
            "text/plain": [
              "<Axes: xlabel='Date'>"
            ]
          },
          "metadata": {},
          "execution_count": 165
        },
        {
          "output_type": "display_data",
          "data": {
            "text/plain": [
              "<Figure size 640x480 with 1 Axes>"
            ],
            "image/png": "[encoded data removed]"
          },
          "metadata": {}
        },
        {
          "output_type": "display_data",
          "data": {
            "text/plain": [
              "<Figure size 640x480 with 1 Axes>"
            ],
            "image/png": "[encoded data removed]"
          },
          "metadata": {}
        }
      ]
    },
    {
      "cell_type": "code",
      "source": [
        "forcasted = df_forecast\n",
        "forcasted_values = forcasted.loc[:,\"price\"]\n",
        "forcasted_values = forcasted_values.tolist()\n",
        "pandey = pd.read_csv('nir.csv')\n",
        "nir = pandey.loc[:,\"price\"]\n",
        "nir_values = nir.tolist()\n",
        "\n",
        "a = len(nir_values)\n",
        "eff = []\n",
        "for i in range (0,a):\n",
        "  b = 100 - ((abs(nir_values[i] - forcasted_values[i]))/nir_values[i])*100\n",
        "  eff.append(b)\n",
        "  \n",
        "print(eff)    \n"
      ],
      "metadata": {
        "id": "4wIIUxn1Lhu9",
        "outputId": "5a2fdf66-7cc1-4c17-a6c9-a9e21d221f78",
        "colab": {
          "base_uri": "https://localhost:8080/"
        }
      },
      "execution_count": 168,
      "outputs": [
        {
          "output_type": "stream",
          "name": "stdout",
          "text": [
            "[97.18668355809214, 97.8391307881663, 98.40399558718761, 99.42952427580344, 98.59110244696174, 97.98243912504395, 97.84422156976436, 97.9877331930587, 99.42681028744595, 99.91144935083038, 98.80904966600546, 97.37655593441507, 97.47691278725738, 96.5037745883737, 97.16420400620777, 98.42130008217566, 99.53690473664125, 99.40917368513324, 99.21849654606936, 99.75922978454389, 99.6168926146996, 98.5864506070688, 98.57878629857319, 99.72228825456396, 99.93505114381912, 99.59756027140155, 99.58242939313253, 99.86143775177362, 99.91642542276996, 99.25897113704114, 98.21948592765739, 96.77256579073733, 96.90650099435784, 97.74561602699934, 98.12873302090992, 98.78873504515427, 98.88488354482166, 99.90639948390181, 99.10874018399285, 97.71660599197826, 98.05752898889938, 97.81000731052735, 98.83128461058764, 98.46664011382968, 97.82814921425528, 96.79070745650422, 96.11698202883761, 97.47081828012908, 96.87080426011839, 96.20820498120169]\n"
          ]
        }
      ]
    },
    {
      "cell_type": "code",
      "source": [
        "avgeff = np.average(eff)\n",
        "print(avgeff)"
      ],
      "metadata": {
        "id": "KJH41Odcn_88",
        "outputId": "144d1cef-7e4b-465c-820c-bf7ac3968165",
        "colab": {
          "base_uri": "https://localhost:8080/"
        }
      },
      "execution_count": 169,
      "outputs": [
        {
          "output_type": "stream",
          "name": "stdout",
          "text": [
            "98.39128756298844\n"
          ]
        }
      ]
    }
  ]
}